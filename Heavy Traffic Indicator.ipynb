{
 "cells": [
  {
   "cell_type": "markdown",
   "id": "e6153cc1",
   "metadata": {},
   "source": [
    "# Indicators of Heavy Traffic on I-94"
   ]
  },
  {
   "cell_type": "markdown",
   "id": "d7ab4a00",
   "metadata": {},
   "source": [
    "## Introduction\n",
    "We are analyzing data about the westbound traffic on the I-94 interstate highway.\n",
    "The goal of our analysis is to determine a few indicators of heavy traffic on the I-94. These indicators can be weather type, time of the day, time of the week, etc. For instance, we may find out that the traffic is usually heavier in the summer or when it snows."
   ]
  },
  {
   "cell_type": "code",
   "execution_count": 176,
   "id": "a4de048f",
   "metadata": {},
   "outputs": [],
   "source": [
    "# import our packages\n",
    "import pandas as pd\n",
    "import numpy as np\n",
    "import matplotlib.pyplot as plt"
   ]
  },
  {
   "cell_type": "code",
   "execution_count": 177,
   "id": "b79f0367",
   "metadata": {},
   "outputs": [],
   "source": [
    "# read our data frame \n",
    "metro = pd.read_csv(\"Metro_interstate_Traffic_Volume.csv\")"
   ]
  },
  {
   "cell_type": "code",
   "execution_count": 178,
   "id": "fe5f4ab3",
   "metadata": {},
   "outputs": [
    {
     "data": {
      "text/html": [
       "<div>\n",
       "<style scoped>\n",
       "    .dataframe tbody tr th:only-of-type {\n",
       "        vertical-align: middle;\n",
       "    }\n",
       "\n",
       "    .dataframe tbody tr th {\n",
       "        vertical-align: top;\n",
       "    }\n",
       "\n",
       "    .dataframe thead th {\n",
       "        text-align: right;\n",
       "    }\n",
       "</style>\n",
       "<table border=\"1\" class=\"dataframe\">\n",
       "  <thead>\n",
       "    <tr style=\"text-align: right;\">\n",
       "      <th></th>\n",
       "      <th>holiday</th>\n",
       "      <th>temp</th>\n",
       "      <th>rain_1h</th>\n",
       "      <th>snow_1h</th>\n",
       "      <th>clouds_all</th>\n",
       "      <th>weather_main</th>\n",
       "      <th>weather_description</th>\n",
       "      <th>date_time</th>\n",
       "      <th>traffic_volume</th>\n",
       "    </tr>\n",
       "  </thead>\n",
       "  <tbody>\n",
       "    <tr>\n",
       "      <th>0</th>\n",
       "      <td>None</td>\n",
       "      <td>288.28</td>\n",
       "      <td>0.0</td>\n",
       "      <td>0.0</td>\n",
       "      <td>40</td>\n",
       "      <td>Clouds</td>\n",
       "      <td>scattered clouds</td>\n",
       "      <td>2012-10-02 09:00:00</td>\n",
       "      <td>5545</td>\n",
       "    </tr>\n",
       "    <tr>\n",
       "      <th>1</th>\n",
       "      <td>None</td>\n",
       "      <td>289.36</td>\n",
       "      <td>0.0</td>\n",
       "      <td>0.0</td>\n",
       "      <td>75</td>\n",
       "      <td>Clouds</td>\n",
       "      <td>broken clouds</td>\n",
       "      <td>2012-10-02 10:00:00</td>\n",
       "      <td>4516</td>\n",
       "    </tr>\n",
       "    <tr>\n",
       "      <th>2</th>\n",
       "      <td>None</td>\n",
       "      <td>289.58</td>\n",
       "      <td>0.0</td>\n",
       "      <td>0.0</td>\n",
       "      <td>90</td>\n",
       "      <td>Clouds</td>\n",
       "      <td>overcast clouds</td>\n",
       "      <td>2012-10-02 11:00:00</td>\n",
       "      <td>4767</td>\n",
       "    </tr>\n",
       "    <tr>\n",
       "      <th>3</th>\n",
       "      <td>None</td>\n",
       "      <td>290.13</td>\n",
       "      <td>0.0</td>\n",
       "      <td>0.0</td>\n",
       "      <td>90</td>\n",
       "      <td>Clouds</td>\n",
       "      <td>overcast clouds</td>\n",
       "      <td>2012-10-02 12:00:00</td>\n",
       "      <td>5026</td>\n",
       "    </tr>\n",
       "    <tr>\n",
       "      <th>4</th>\n",
       "      <td>None</td>\n",
       "      <td>291.14</td>\n",
       "      <td>0.0</td>\n",
       "      <td>0.0</td>\n",
       "      <td>75</td>\n",
       "      <td>Clouds</td>\n",
       "      <td>broken clouds</td>\n",
       "      <td>2012-10-02 13:00:00</td>\n",
       "      <td>4918</td>\n",
       "    </tr>\n",
       "  </tbody>\n",
       "</table>\n",
       "</div>"
      ],
      "text/plain": [
       "  holiday    temp  rain_1h  snow_1h  clouds_all weather_main  \\\n",
       "0    None  288.28      0.0      0.0          40       Clouds   \n",
       "1    None  289.36      0.0      0.0          75       Clouds   \n",
       "2    None  289.58      0.0      0.0          90       Clouds   \n",
       "3    None  290.13      0.0      0.0          90       Clouds   \n",
       "4    None  291.14      0.0      0.0          75       Clouds   \n",
       "\n",
       "  weather_description            date_time  traffic_volume  \n",
       "0    scattered clouds  2012-10-02 09:00:00            5545  \n",
       "1       broken clouds  2012-10-02 10:00:00            4516  \n",
       "2     overcast clouds  2012-10-02 11:00:00            4767  \n",
       "3     overcast clouds  2012-10-02 12:00:00            5026  \n",
       "4       broken clouds  2012-10-02 13:00:00            4918  "
      ]
     },
     "execution_count": 178,
     "metadata": {},
     "output_type": "execute_result"
    }
   ],
   "source": [
    "#Examine the head of the data\n",
    "metro.head()"
   ]
  },
  {
   "cell_type": "code",
   "execution_count": 179,
   "id": "a21461e7",
   "metadata": {},
   "outputs": [
    {
     "data": {
      "text/html": [
       "<div>\n",
       "<style scoped>\n",
       "    .dataframe tbody tr th:only-of-type {\n",
       "        vertical-align: middle;\n",
       "    }\n",
       "\n",
       "    .dataframe tbody tr th {\n",
       "        vertical-align: top;\n",
       "    }\n",
       "\n",
       "    .dataframe thead th {\n",
       "        text-align: right;\n",
       "    }\n",
       "</style>\n",
       "<table border=\"1\" class=\"dataframe\">\n",
       "  <thead>\n",
       "    <tr style=\"text-align: right;\">\n",
       "      <th></th>\n",
       "      <th>holiday</th>\n",
       "      <th>temp</th>\n",
       "      <th>rain_1h</th>\n",
       "      <th>snow_1h</th>\n",
       "      <th>clouds_all</th>\n",
       "      <th>weather_main</th>\n",
       "      <th>weather_description</th>\n",
       "      <th>date_time</th>\n",
       "      <th>traffic_volume</th>\n",
       "    </tr>\n",
       "  </thead>\n",
       "  <tbody>\n",
       "    <tr>\n",
       "      <th>48199</th>\n",
       "      <td>None</td>\n",
       "      <td>283.45</td>\n",
       "      <td>0.0</td>\n",
       "      <td>0.0</td>\n",
       "      <td>75</td>\n",
       "      <td>Clouds</td>\n",
       "      <td>broken clouds</td>\n",
       "      <td>2018-09-30 19:00:00</td>\n",
       "      <td>3543</td>\n",
       "    </tr>\n",
       "    <tr>\n",
       "      <th>48200</th>\n",
       "      <td>None</td>\n",
       "      <td>282.76</td>\n",
       "      <td>0.0</td>\n",
       "      <td>0.0</td>\n",
       "      <td>90</td>\n",
       "      <td>Clouds</td>\n",
       "      <td>overcast clouds</td>\n",
       "      <td>2018-09-30 20:00:00</td>\n",
       "      <td>2781</td>\n",
       "    </tr>\n",
       "    <tr>\n",
       "      <th>48201</th>\n",
       "      <td>None</td>\n",
       "      <td>282.73</td>\n",
       "      <td>0.0</td>\n",
       "      <td>0.0</td>\n",
       "      <td>90</td>\n",
       "      <td>Thunderstorm</td>\n",
       "      <td>proximity thunderstorm</td>\n",
       "      <td>2018-09-30 21:00:00</td>\n",
       "      <td>2159</td>\n",
       "    </tr>\n",
       "    <tr>\n",
       "      <th>48202</th>\n",
       "      <td>None</td>\n",
       "      <td>282.09</td>\n",
       "      <td>0.0</td>\n",
       "      <td>0.0</td>\n",
       "      <td>90</td>\n",
       "      <td>Clouds</td>\n",
       "      <td>overcast clouds</td>\n",
       "      <td>2018-09-30 22:00:00</td>\n",
       "      <td>1450</td>\n",
       "    </tr>\n",
       "    <tr>\n",
       "      <th>48203</th>\n",
       "      <td>None</td>\n",
       "      <td>282.12</td>\n",
       "      <td>0.0</td>\n",
       "      <td>0.0</td>\n",
       "      <td>90</td>\n",
       "      <td>Clouds</td>\n",
       "      <td>overcast clouds</td>\n",
       "      <td>2018-09-30 23:00:00</td>\n",
       "      <td>954</td>\n",
       "    </tr>\n",
       "  </tbody>\n",
       "</table>\n",
       "</div>"
      ],
      "text/plain": [
       "      holiday    temp  rain_1h  snow_1h  clouds_all  weather_main  \\\n",
       "48199    None  283.45      0.0      0.0          75        Clouds   \n",
       "48200    None  282.76      0.0      0.0          90        Clouds   \n",
       "48201    None  282.73      0.0      0.0          90  Thunderstorm   \n",
       "48202    None  282.09      0.0      0.0          90        Clouds   \n",
       "48203    None  282.12      0.0      0.0          90        Clouds   \n",
       "\n",
       "          weather_description            date_time  traffic_volume  \n",
       "48199           broken clouds  2018-09-30 19:00:00            3543  \n",
       "48200         overcast clouds  2018-09-30 20:00:00            2781  \n",
       "48201  proximity thunderstorm  2018-09-30 21:00:00            2159  \n",
       "48202         overcast clouds  2018-09-30 22:00:00            1450  \n",
       "48203         overcast clouds  2018-09-30 23:00:00             954  "
      ]
     },
     "execution_count": 179,
     "metadata": {},
     "output_type": "execute_result"
    }
   ],
   "source": [
    "# Examine the tail of the data\n",
    "metro.tail()"
   ]
  },
  {
   "cell_type": "code",
   "execution_count": 180,
   "id": "d6919a4a",
   "metadata": {},
   "outputs": [
    {
     "name": "stdout",
     "output_type": "stream",
     "text": [
      "<class 'pandas.core.frame.DataFrame'>\n",
      "RangeIndex: 48204 entries, 0 to 48203\n",
      "Data columns (total 9 columns):\n",
      " #   Column               Non-Null Count  Dtype  \n",
      "---  ------               --------------  -----  \n",
      " 0   holiday              48204 non-null  object \n",
      " 1   temp                 48204 non-null  float64\n",
      " 2   rain_1h              48204 non-null  float64\n",
      " 3   snow_1h              48204 non-null  float64\n",
      " 4   clouds_all           48204 non-null  int64  \n",
      " 5   weather_main         48204 non-null  object \n",
      " 6   weather_description  48204 non-null  object \n",
      " 7   date_time            48204 non-null  object \n",
      " 8   traffic_volume       48204 non-null  int64  \n",
      "dtypes: float64(3), int64(2), object(4)\n",
      "memory usage: 3.3+ MB\n"
     ]
    }
   ],
   "source": [
    "metro.info()"
   ]
  },
  {
   "cell_type": "code",
   "execution_count": 181,
   "id": "74e9a616",
   "metadata": {},
   "outputs": [
    {
     "data": {
      "image/png": "[encoded data removed]",
      "text/plain": [
       "<Figure size 432x288 with 1 Axes>"
      ]
     },
     "metadata": {
      "needs_background": "light"
     },
     "output_type": "display_data"
    }
   ],
   "source": [
    "%matplotlib inline\n",
    "metro[\"traffic_volume\"].plot.hist();"
   ]
  },
  {
   "cell_type": "code",
   "execution_count": 182,
   "id": "e8e467fc",
   "metadata": {},
   "outputs": [
    {
     "data": {
      "text/plain": [
       "count    48204.000000\n",
       "mean      3259.818355\n",
       "std       1986.860670\n",
       "min          0.000000\n",
       "25%       1193.000000\n",
       "50%       3380.000000\n",
       "75%       4933.000000\n",
       "max       7280.000000\n",
       "Name: traffic_volume, dtype: float64"
      ]
     },
     "execution_count": 182,
     "metadata": {},
     "output_type": "execute_result"
    }
   ],
   "source": [
    "# statistics about the column\n",
    "metro[\"traffic_volume\"].describe()"
   ]
  },
  {
   "cell_type": "markdown",
   "id": "7eda6004",
   "metadata": {},
   "source": [
    "Between 2012-10-02 09:00:00 and 2018-09-30 23:00:00, the hourly traffic volume varied from 0 to 7,280 cars, with an average of 3,260 cars.\n",
    "\n",
    "About 25% of the time, there were only 1,193 cars or fewer passing the station each hour — this probably occurs during the night, or when a road is under construction. However, about 25% of the time, the traffic volume was four times as much (4,933 cars or more).\n",
    "\n",
    "This observation gives our analysis an interesting direction: comparing daytime data with nighttime data"
   ]
  },
  {
   "cell_type": "markdown",
   "id": "fb1337c9",
   "metadata": {},
   "source": [
    "## Traffic Volume: Day vs. Night"
   ]
  },
  {
   "cell_type": "markdown",
   "id": "e41da025",
   "metadata": {},
   "source": [
    "We'll start by dividing the dataset into two parts:\n",
    "- Daytime data: hours from 7 AM to 7 PM (12 hours)\n",
    "- Daytime data: hours from 7 PM to 7 AM (12 hours)"
   ]
  },
  {
   "cell_type": "code",
   "execution_count": 183,
   "id": "6c8c58a0",
   "metadata": {},
   "outputs": [],
   "source": [
    "# transform the date_time column to datetime\n",
    "metro[\"date_time\"]= pd.to_datetime(metro[\"date_time\"])"
   ]
  },
  {
   "cell_type": "code",
   "execution_count": 184,
   "id": "5435d96e",
   "metadata": {},
   "outputs": [],
   "source": [
    "day = metro.copy()[(metro[\"date_time\"].dt.hour >=7) & (metro['date_time'].dt.hour < 19)]\n",
    "night = metro.copy()[(metro[\"date_time\"].dt.hour >=19) | (metro['date_time'].dt.hour < 7)]"
   ]
  },
  {
   "cell_type": "code",
   "execution_count": 185,
   "id": "9aa7493c",
   "metadata": {},
   "outputs": [
    {
     "name": "stdout",
     "output_type": "stream",
     "text": [
      "(23877, 9)\n",
      "(24327, 9)\n"
     ]
    }
   ],
   "source": [
    "print(day.shape)\n",
    "print(night.shape)"
   ]
  },
  {
   "cell_type": "code",
   "execution_count": 186,
   "id": "d79a277a",
   "metadata": {},
   "outputs": [
    {
     "name": "stdout",
     "output_type": "stream",
     "text": [
      "  holiday    temp  rain_1h  snow_1h  clouds_all weather_main  \\\n",
      "0    None  288.28      0.0      0.0          40       Clouds   \n",
      "1    None  289.36      0.0      0.0          75       Clouds   \n",
      "2    None  289.58      0.0      0.0          90       Clouds   \n",
      "3    None  290.13      0.0      0.0          90       Clouds   \n",
      "4    None  291.14      0.0      0.0          75       Clouds   \n",
      "\n",
      "  weather_description           date_time  traffic_volume  \n",
      "0    scattered clouds 2012-10-02 09:00:00            5545  \n",
      "1       broken clouds 2012-10-02 10:00:00            4516  \n",
      "2     overcast clouds 2012-10-02 11:00:00            4767  \n",
      "3     overcast clouds 2012-10-02 12:00:00            5026  \n",
      "4       broken clouds 2012-10-02 13:00:00            4918  \n"
     ]
    }
   ],
   "source": [
    "print(day.head())"
   ]
  },
  {
   "cell_type": "code",
   "execution_count": 187,
   "id": "7a288576",
   "metadata": {},
   "outputs": [
    {
     "data": {
      "image/png": "[encoded data removed]",
      "text/plain": [
       "<Figure size 1080x288 with 2 Axes>"
      ]
     },
     "metadata": {
      "needs_background": "light"
     },
     "output_type": "display_data"
    }
   ],
   "source": [
    "plt.figure(figsize=(15,4));\n",
    "plt.subplot(1,2,1);\n",
    "plt.hist(day[\"traffic_volume\"])\n",
    "plt.title(\"Day time traffic volume\")\n",
    "plt.xlabel(\"Traffic Volume\")\n",
    "plt.ylabel(\"Traffic Volume\")\n",
    "plt.xlim(-100, 7500)\n",
    "plt.ylim(0,800)\n",
    "\n",
    "plt.subplot(1,2,2);\n",
    "plt.hist(night[\"traffic_volume\"])\n",
    "plt.xlim(-100, 7500)\n",
    "plt.ylim(0,8000)\n",
    "plt.title(\"Night tie traffic Volume\")\n",
    "plt.show()"
   ]
  },
  {
   "cell_type": "markdown",
   "id": "36a5f91b",
   "metadata": {},
   "source": [
    "For the day time, the histogram is skewed to the left meaning most of the traffic happend during the day. While the night is skewed to the right because less traffic volume happened at night."
   ]
  },
  {
   "cell_type": "code",
   "execution_count": 188,
   "id": "a9abb9f0",
   "metadata": {},
   "outputs": [
    {
     "data": {
      "text/plain": [
       "count    23877.000000\n",
       "mean      4762.047452\n",
       "std       1174.546482\n",
       "min          0.000000\n",
       "25%       4252.000000\n",
       "50%       4820.000000\n",
       "75%       5559.000000\n",
       "max       7280.000000\n",
       "Name: traffic_volume, dtype: float64"
      ]
     },
     "execution_count": 188,
     "metadata": {},
     "output_type": "execute_result"
    }
   ],
   "source": [
    "day[\"traffic_volume\"].describe()"
   ]
  },
  {
   "cell_type": "code",
   "execution_count": 189,
   "id": "beefc096",
   "metadata": {},
   "outputs": [
    {
     "data": {
      "text/plain": [
       "count    24327.000000\n",
       "mean      1785.377441\n",
       "std       1441.951197\n",
       "min          0.000000\n",
       "25%        530.000000\n",
       "50%       1287.000000\n",
       "75%       2819.000000\n",
       "max       6386.000000\n",
       "Name: traffic_volume, dtype: float64"
      ]
     },
     "execution_count": 189,
     "metadata": {},
     "output_type": "execute_result"
    }
   ],
   "source": [
    "night[\"traffic_volume\"].describe()"
   ]
  },
  {
   "cell_type": "markdown",
   "id": "5c11889d",
   "metadata": {},
   "source": [
    "## Time Indicators"
   ]
  },
  {
   "cell_type": "markdown",
   "id": "8bae230a",
   "metadata": {},
   "source": [
    "Since the traffic at night is generally low while that at day is high. We decided to focus on the high traffic since which is the day time."
   ]
  },
  {
   "cell_type": "code",
   "execution_count": 190,
   "id": "5bd5e9f0",
   "metadata": {},
   "outputs": [
    {
     "data": {
      "text/plain": [
       "month\n",
       "1     4495.613727\n",
       "2     4711.198394\n",
       "3     4889.409560\n",
       "4     4906.894305\n",
       "5     4911.121609\n",
       "6     4898.019566\n",
       "7     4595.035744\n",
       "8     4928.302035\n",
       "9     4870.783145\n",
       "10    4921.234922\n",
       "11    4704.094319\n",
       "12    4374.834566\n",
       "Name: traffic_volume, dtype: float64"
      ]
     },
     "execution_count": 190,
     "metadata": {},
     "output_type": "execute_result"
    }
   ],
   "source": [
    "day['month'] = day['date_time'].dt.month\n",
    "by_month = day.groupby('month').mean()\n",
    "by_month['traffic_volume']"
   ]
  },
  {
   "cell_type": "code",
   "execution_count": 191,
   "id": "19b986fd",
   "metadata": {},
   "outputs": [
    {
     "data": {
      "text/plain": [
       "(12, 5)"
      ]
     },
     "execution_count": 191,
     "metadata": {},
     "output_type": "execute_result"
    }
   ],
   "source": [
    "by_month.shape"
   ]
  },
  {
   "cell_type": "code",
   "execution_count": 192,
   "id": "42201bea",
   "metadata": {},
   "outputs": [
    {
     "data": {
      "text/html": [
       "<div>\n",
       "<style scoped>\n",
       "    .dataframe tbody tr th:only-of-type {\n",
       "        vertical-align: middle;\n",
       "    }\n",
       "\n",
       "    .dataframe tbody tr th {\n",
       "        vertical-align: top;\n",
       "    }\n",
       "\n",
       "    .dataframe thead th {\n",
       "        text-align: right;\n",
       "    }\n",
       "</style>\n",
       "<table border=\"1\" class=\"dataframe\">\n",
       "  <thead>\n",
       "    <tr style=\"text-align: right;\">\n",
       "      <th></th>\n",
       "      <th>temp</th>\n",
       "      <th>rain_1h</th>\n",
       "      <th>snow_1h</th>\n",
       "      <th>clouds_all</th>\n",
       "      <th>traffic_volume</th>\n",
       "    </tr>\n",
       "    <tr>\n",
       "      <th>month</th>\n",
       "      <th></th>\n",
       "      <th></th>\n",
       "      <th></th>\n",
       "      <th></th>\n",
       "      <th></th>\n",
       "    </tr>\n",
       "  </thead>\n",
       "  <tbody>\n",
       "    <tr>\n",
       "      <th>1</th>\n",
       "      <td>265.483409</td>\n",
       "      <td>0.015080</td>\n",
       "      <td>0.000631</td>\n",
       "      <td>58.554108</td>\n",
       "      <td>4495.613727</td>\n",
       "    </tr>\n",
       "    <tr>\n",
       "      <th>2</th>\n",
       "      <td>266.663789</td>\n",
       "      <td>0.004019</td>\n",
       "      <td>0.000000</td>\n",
       "      <td>51.550459</td>\n",
       "      <td>4711.198394</td>\n",
       "    </tr>\n",
       "    <tr>\n",
       "      <th>3</th>\n",
       "      <td>273.619940</td>\n",
       "      <td>0.015839</td>\n",
       "      <td>0.000000</td>\n",
       "      <td>56.827811</td>\n",
       "      <td>4889.409560</td>\n",
       "    </tr>\n",
       "    <tr>\n",
       "      <th>4</th>\n",
       "      <td>279.661071</td>\n",
       "      <td>0.105343</td>\n",
       "      <td>0.000000</td>\n",
       "      <td>59.221525</td>\n",
       "      <td>4906.894305</td>\n",
       "    </tr>\n",
       "    <tr>\n",
       "      <th>5</th>\n",
       "      <td>289.282668</td>\n",
       "      <td>0.130863</td>\n",
       "      <td>0.000000</td>\n",
       "      <td>56.548825</td>\n",
       "      <td>4911.121609</td>\n",
       "    </tr>\n",
       "  </tbody>\n",
       "</table>\n",
       "</div>"
      ],
      "text/plain": [
       "             temp   rain_1h   snow_1h  clouds_all  traffic_volume\n",
       "month                                                            \n",
       "1      265.483409  0.015080  0.000631   58.554108     4495.613727\n",
       "2      266.663789  0.004019  0.000000   51.550459     4711.198394\n",
       "3      273.619940  0.015839  0.000000   56.827811     4889.409560\n",
       "4      279.661071  0.105343  0.000000   59.221525     4906.894305\n",
       "5      289.282668  0.130863  0.000000   56.548825     4911.121609"
      ]
     },
     "execution_count": 192,
     "metadata": {},
     "output_type": "execute_result"
    }
   ],
   "source": [
    "by_month.head()"
   ]
  },
  {
   "cell_type": "code",
   "execution_count": 193,
   "id": "af01cc57",
   "metadata": {},
   "outputs": [
    {
     "data": {
      "image/png": "[encoded data removed]",
      "text/plain": [
       "<Figure size 432x288 with 1 Axes>"
      ]
     },
     "metadata": {
      "needs_background": "light"
     },
     "output_type": "display_data"
    }
   ],
   "source": [
    "plt.plot(by_month[\"traffic_volume\"]);\n",
    "plt.show()"
   ]
  },
  {
   "cell_type": "markdown",
   "id": "2a902cb3",
   "metadata": {},
   "source": [
    "The traffic looks low from november to march and high from march to october with one exception which is july. Let us explore the july for more insighrs."
   ]
  },
  {
   "cell_type": "code",
   "execution_count": 194,
   "id": "52184e30",
   "metadata": {},
   "outputs": [
    {
     "data": {
      "text/plain": [
       "<AxesSubplot:xlabel='year'>"
      ]
     },
     "execution_count": 194,
     "metadata": {},
     "output_type": "execute_result"
    },
    {
     "data": {
      "image/png": "[encoded data removed]",
      "text/plain": [
       "<Figure size 432x288 with 1 Axes>"
      ]
     },
     "metadata": {
      "needs_background": "light"
     },
     "output_type": "display_data"
    }
   ],
   "source": [
    "day[\"year\"] = day[\"date_time\"].dt.year\n",
    "month_july = day[day[\"month\"] == 7]\n",
    "month_july.groupby(\"year\").mean()[\"traffic_volume\"].plot.line()"
   ]
  },
  {
   "cell_type": "markdown",
   "id": "aa691c14",
   "metadata": {},
   "source": [
    "Traffic was also heavy in july except for the year 2016. In conclusion we say the months that are warm showed higher traffic than the cold months. "
   ]
  },
  {
   "cell_type": "code",
   "execution_count": 195,
   "id": "a2369a36",
   "metadata": {},
   "outputs": [
    {
     "data": {
      "image/png": "[encoded data removed]",
      "text/plain": [
       "<Figure size 432x288 with 1 Axes>"
      ]
     },
     "metadata": {
      "needs_background": "light"
     },
     "output_type": "display_data"
    }
   ],
   "source": [
    "day['dayofweek'] = day['date_time'].dt.dayofweek\n",
    "by_dayofweek = day.groupby('dayofweek').mean()\n",
    "by_dayofweek['traffic_volume'].plot.line()\n",
    "plt.show()"
   ]
  },
  {
   "cell_type": "markdown",
   "id": "ede9ffc3",
   "metadata": {},
   "source": [
    "From this graph it is observed that the week days are generally with higher traffic compared to the weeked."
   ]
  },
  {
   "cell_type": "code",
   "execution_count": 196,
   "id": "f90e160f",
   "metadata": {},
   "outputs": [
    {
     "data": {
      "image/png": "[encoded data removed]",
      "text/plain": [
       "<Figure size 792x252 with 2 Axes>"
      ]
     },
     "metadata": {
      "needs_background": "light"
     },
     "output_type": "display_data"
    }
   ],
   "source": [
    "day['hour'] = day['date_time'].dt.hour\n",
    "bussiness_days = day.copy()[day['dayofweek'] <= 4] # 4 == Friday\n",
    "weekend = day.copy()[day['dayofweek'] >= 5] # 5 == Saturday\n",
    "by_hour_business = bussiness_days.groupby('hour').mean()\n",
    "by_hour_weekend = weekend.groupby('hour').mean()\n",
    "\n",
    "plt.figure(figsize=(11,3.5))\n",
    "\n",
    "plt.subplot(1, 2, 1)\n",
    "by_hour_business['traffic_volume'].plot.line()\n",
    "plt.xlim(6,20)\n",
    "plt.ylim(1500,6500)\n",
    "plt.title('Traffic Volume By Hour: Monday–Friday')\n",
    "\n",
    "plt.subplot(1, 2, 2)\n",
    "by_hour_weekend['traffic_volume'].plot.line()\n",
    "plt.xlim(6,20)\n",
    "plt.ylim(1500,6500)\n",
    "plt.title('Traffic Volume By Hour: Weekend')\n",
    "\n",
    "plt.show()"
   ]
  },
  {
   "cell_type": "markdown",
   "id": "295f1cd5",
   "metadata": {},
   "source": [
    "At each hour of the day, the traffic volume is generally higher during business days compared to the weekends. As somehow expected, the rush hours are around 7 and 16 - When most people travel from home to work and back. We see volumes of over 6,000 cars at rush hours. \n",
    "To summarise, we found a few time-related indicators of heavy traffic:\n",
    "- The traffic is usually heavier during warm months (March–October) compared to cold months (November–February).\n",
    "- The traffic is usually heavier on business days compared to weekends.\n",
    "- On business days, the rush hours are around 7 and 16."
   ]
  },
  {
   "cell_type": "markdown",
   "id": "c36c1b86",
   "metadata": {},
   "source": [
    "## Weather Indicators"
   ]
  },
  {
   "cell_type": "markdown",
   "id": "b2af5ed2",
   "metadata": {},
   "source": [
    "Weather is another factor that affects heavy traffic. Lets analyse the traffic to get insights from the datasets. The temp, rain_1h, snow_1h, clouds_all, weather_main, weather_description."
   ]
  },
  {
   "cell_type": "code",
   "execution_count": 197,
   "id": "dd2b15e9",
   "metadata": {},
   "outputs": [
    {
     "data": {
      "text/plain": [
       "temp              0.128317\n",
       "rain_1h           0.003697\n",
       "snow_1h           0.001265\n",
       "clouds_all       -0.032932\n",
       "traffic_volume    1.000000\n",
       "month            -0.022337\n",
       "year             -0.003557\n",
       "dayofweek        -0.416453\n",
       "hour              0.172704\n",
       "Name: traffic_volume, dtype: float64"
      ]
     },
     "execution_count": 197,
     "metadata": {},
     "output_type": "execute_result"
    }
   ],
   "source": [
    "# Lets check the correction of traffic with weather \n",
    "day.corr()[\"traffic_volume\"]"
   ]
  },
  {
   "cell_type": "markdown",
   "id": "6c7a92fd",
   "metadata": {},
   "source": [
    "Temperature shows the strongest correlation with a value of just +0.13. Rain_1h, snow_1h, clouds_all all didn;t show any relevant correleation. "
   ]
  },
  {
   "cell_type": "code",
   "execution_count": 200,
   "id": "7ab725dd",
   "metadata": {},
   "outputs": [
    {
     "data": {
      "text/html": [
       "<div>\n",
       "<style scoped>\n",
       "    .dataframe tbody tr th:only-of-type {\n",
       "        vertical-align: middle;\n",
       "    }\n",
       "\n",
       "    .dataframe tbody tr th {\n",
       "        vertical-align: top;\n",
       "    }\n",
       "\n",
       "    .dataframe thead th {\n",
       "        text-align: right;\n",
       "    }\n",
       "</style>\n",
       "<table border=\"1\" class=\"dataframe\">\n",
       "  <thead>\n",
       "    <tr style=\"text-align: right;\">\n",
       "      <th></th>\n",
       "      <th>holiday</th>\n",
       "      <th>temp</th>\n",
       "      <th>rain_1h</th>\n",
       "      <th>snow_1h</th>\n",
       "      <th>clouds_all</th>\n",
       "      <th>weather_main</th>\n",
       "      <th>weather_description</th>\n",
       "      <th>date_time</th>\n",
       "      <th>traffic_volume</th>\n",
       "      <th>month</th>\n",
       "      <th>year</th>\n",
       "      <th>dayofweek</th>\n",
       "      <th>hour</th>\n",
       "    </tr>\n",
       "  </thead>\n",
       "  <tbody>\n",
       "    <tr>\n",
       "      <th>0</th>\n",
       "      <td>None</td>\n",
       "      <td>288.28</td>\n",
       "      <td>0.0</td>\n",
       "      <td>0.0</td>\n",
       "      <td>40</td>\n",
       "      <td>Clouds</td>\n",
       "      <td>scattered clouds</td>\n",
       "      <td>2012-10-02 09:00:00</td>\n",
       "      <td>5545</td>\n",
       "      <td>10</td>\n",
       "      <td>2012</td>\n",
       "      <td>1</td>\n",
       "      <td>9</td>\n",
       "    </tr>\n",
       "    <tr>\n",
       "      <th>1</th>\n",
       "      <td>None</td>\n",
       "      <td>289.36</td>\n",
       "      <td>0.0</td>\n",
       "      <td>0.0</td>\n",
       "      <td>75</td>\n",
       "      <td>Clouds</td>\n",
       "      <td>broken clouds</td>\n",
       "      <td>2012-10-02 10:00:00</td>\n",
       "      <td>4516</td>\n",
       "      <td>10</td>\n",
       "      <td>2012</td>\n",
       "      <td>1</td>\n",
       "      <td>10</td>\n",
       "    </tr>\n",
       "    <tr>\n",
       "      <th>2</th>\n",
       "      <td>None</td>\n",
       "      <td>289.58</td>\n",
       "      <td>0.0</td>\n",
       "      <td>0.0</td>\n",
       "      <td>90</td>\n",
       "      <td>Clouds</td>\n",
       "      <td>overcast clouds</td>\n",
       "      <td>2012-10-02 11:00:00</td>\n",
       "      <td>4767</td>\n",
       "      <td>10</td>\n",
       "      <td>2012</td>\n",
       "      <td>1</td>\n",
       "      <td>11</td>\n",
       "    </tr>\n",
       "    <tr>\n",
       "      <th>3</th>\n",
       "      <td>None</td>\n",
       "      <td>290.13</td>\n",
       "      <td>0.0</td>\n",
       "      <td>0.0</td>\n",
       "      <td>90</td>\n",
       "      <td>Clouds</td>\n",
       "      <td>overcast clouds</td>\n",
       "      <td>2012-10-02 12:00:00</td>\n",
       "      <td>5026</td>\n",
       "      <td>10</td>\n",
       "      <td>2012</td>\n",
       "      <td>1</td>\n",
       "      <td>12</td>\n",
       "    </tr>\n",
       "    <tr>\n",
       "      <th>4</th>\n",
       "      <td>None</td>\n",
       "      <td>291.14</td>\n",
       "      <td>0.0</td>\n",
       "      <td>0.0</td>\n",
       "      <td>75</td>\n",
       "      <td>Clouds</td>\n",
       "      <td>broken clouds</td>\n",
       "      <td>2012-10-02 13:00:00</td>\n",
       "      <td>4918</td>\n",
       "      <td>10</td>\n",
       "      <td>2012</td>\n",
       "      <td>1</td>\n",
       "      <td>13</td>\n",
       "    </tr>\n",
       "  </tbody>\n",
       "</table>\n",
       "</div>"
      ],
      "text/plain": [
       "  holiday    temp  rain_1h  snow_1h  clouds_all weather_main  \\\n",
       "0    None  288.28      0.0      0.0          40       Clouds   \n",
       "1    None  289.36      0.0      0.0          75       Clouds   \n",
       "2    None  289.58      0.0      0.0          90       Clouds   \n",
       "3    None  290.13      0.0      0.0          90       Clouds   \n",
       "4    None  291.14      0.0      0.0          75       Clouds   \n",
       "\n",
       "  weather_description           date_time  traffic_volume  month  year  \\\n",
       "0    scattered clouds 2012-10-02 09:00:00            5545     10  2012   \n",
       "1       broken clouds 2012-10-02 10:00:00            4516     10  2012   \n",
       "2     overcast clouds 2012-10-02 11:00:00            4767     10  2012   \n",
       "3     overcast clouds 2012-10-02 12:00:00            5026     10  2012   \n",
       "4       broken clouds 2012-10-02 13:00:00            4918     10  2012   \n",
       "\n",
       "   dayofweek  hour  \n",
       "0          1     9  \n",
       "1          1    10  \n",
       "2          1    11  \n",
       "3          1    12  \n",
       "4          1    13  "
      ]
     },
     "execution_count": 200,
     "metadata": {},
     "output_type": "execute_result"
    }
   ],
   "source": [
    "day.head()"
   ]
  },
  {
   "cell_type": "code",
   "execution_count": 202,
   "id": "d28af4f6",
   "metadata": {},
   "outputs": [
    {
     "data": {
      "image/png": "[encoded data removed]",
      "text/plain": [
       "<Figure size 432x288 with 1 Axes>"
      ]
     },
     "metadata": {
      "needs_background": "light"
     },
     "output_type": "display_data"
    }
   ],
   "source": [
    "# Correleation between traffic and temp\n",
    "day.plot.scatter(\"traffic_volume\", \"temp\")\n",
    "plt.ylim(230, 320)\n",
    "plt.show()"
   ]
  },
  {
   "cell_type": "markdown",
   "id": "3329bba1",
   "metadata": {},
   "source": [
    "From this scatter plots, temperature is not a solid indicator of traffic."
   ]
  },
  {
   "cell_type": "markdown",
   "id": "189cf214",
   "metadata": {},
   "source": [
    "## Weather Types"
   ]
  },
  {
   "cell_type": "markdown",
   "id": "63f965a5",
   "metadata": {},
   "source": [
    "Lets group by weather main and view the correlation of weather and traffic_volumes"
   ]
  },
  {
   "cell_type": "code",
   "execution_count": 204,
   "id": "482f493a",
   "metadata": {},
   "outputs": [
    {
     "data": {
      "image/png": "[encoded data removed]",
      "text/plain": [
       "<Figure size 432x288 with 1 Axes>"
      ]
     },
     "metadata": {
      "needs_background": "light"
     },
     "output_type": "display_data"
    }
   ],
   "source": [
    "by_weather_main = day.groupby(\"weather_main\").mean()\n",
    "by_weather_main[\"traffic_volume\"].plot.barh()\n",
    "plt.show()"
   ]
  },
  {
   "cell_type": "markdown",
   "id": "3ae89f31",
   "metadata": {},
   "source": [
    "All the weather main are below 5,000 cars"
   ]
  },
  {
   "cell_type": "code",
   "execution_count": 205,
   "id": "727b75fd",
   "metadata": {},
   "outputs": [
    {
     "data": {
      "image/png": "[encoded data removed]",
      "text/plain": [
       "<Figure size 360x720 with 1 Axes>"
      ]
     },
     "metadata": {
      "needs_background": "light"
     },
     "output_type": "display_data"
    }
   ],
   "source": [
    "by_weather_description = day.groupby(\"weather_description\").mean()\n",
    "by_weather_description[\"traffic_volume\"].plot.barh(figsize=(5,10))\n",
    "plt.show()"
   ]
  },
  {
   "cell_type": "markdown",
   "id": "ccb503c6",
   "metadata": {},
   "source": [
    "Weather types that exceed 5000 are shower snow, light rain and snow, proximity thunderstorm with drizzle"
   ]
  },
  {
   "cell_type": "markdown",
   "id": "5513a5bb",
   "metadata": {},
   "source": [
    "# Conclusion"
   ]
  },
  {
   "cell_type": "markdown",
   "id": "0640bb6c",
   "metadata": {},
   "source": [
    "From our analysis, few indicators of traffic are \n",
    "- Time indicator: Wrm months usually have high traffic compared to cold months. Also the traffic is alos heavier on business days compared to weekends. \n",
    "- Weather indicators: Some weather indicators are shower snow, light rain and snow and proximity thurderstorm with drizzle."
   ]
  },
  {
   "cell_type": "code",
   "execution_count": null,
   "id": "b142ed38",
   "metadata": {},
   "outputs": [],
   "source": []
  }
 ],
 "metadata": {
  "kernelspec": {
   "display_name": "Python 3 (ipykernel)",
   "language": "python",
   "name": "python3"
  },
  "language_info": {
   "codemirror_mode": {
    "name": "ipython",
    "version": 3
   },
   "file_extension": ".py",
   "mimetype": "text/x-python",
   "name": "python",
   "nbconvert_exporter": "python",
   "pygments_lexer": "ipython3",
   "version": "3.9.12"
  }
 },
 "nbformat": 4,
 "nbformat_minor": 5
}
